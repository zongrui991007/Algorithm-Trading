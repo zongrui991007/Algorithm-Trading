{
 "cells": [
  {
   "cell_type": "markdown",
   "id": "815cdc43",
   "metadata": {},
   "source": [
    "# Question1"
   ]
  },
  {
   "cell_type": "markdown",
   "id": "c9448221",
   "metadata": {},
   "source": [
    "(1) Plot simulated Russell 1000 Index (selected at the last se- lection period) return path for the 1,000 simulation periods.\n",
    "(2) Apply ADF test to see whether the Russell 1000 Index re- turn has a unit-root.\n",
    "(3) Plot the average return of Russell 1000 Index in the window after the selection is applied.\n",
    "(4) Plot the average return of the 10,000 stocks in the window after the selection rule is applied.\n",
    "(5) Discuss the significant difference between the (2) and (3) plots, and explain causes of the difference. Hint: we will see 20 observations after the selection."
   ]
  },
  {
   "cell_type": "code",
   "execution_count": 1,
   "id": "b373012c",
   "metadata": {},
   "outputs": [],
   "source": [
    "import matplotlib.pyplot as plt\n",
    "import numpy as np\n",
    "import pandas as pd\n",
    "import statsmodels.api as sm\n",
    "import statsmodels.tsa.stattools as ts\n",
    "from statsmodels.api import OLS, add_constant \n",
    "import matplotlib.pyplot as plt\n",
    "import matplotlib.cm as cm \n",
    "from operator import itemgetter\n",
    "from sklearn.decomposition import FactorAnalysis, PCA \n",
    "from sklearn.preprocessing import StandardScaler \n",
    "from sklearn.datasets import load_iris\n",
    "\n",
    "import pandas_datareader as pdr \n",
    "import pandas_datareader.data as web\n",
    "from pprint import pprint\n",
    "\n",
    "from datetime import date\n",
    "from pandas_datareader.famafrench import get_available_datasets \n",
    "from scipy.stats import spearmanr, pearsonr\n",
    "from pathlib import Path\n",
    "import seaborn as sns\n",
    "import yfinance as yf"
   ]
  },
  {
   "cell_type": "code",
   "execution_count": 2,
   "id": "0dad963f",
   "metadata": {},
   "outputs": [],
   "source": [
    "#1.1"
   ]
  },
  {
   "cell_type": "code",
   "execution_count": 3,
   "id": "e896dbe8",
   "metadata": {},
   "outputs": [],
   "source": [
    "mu=1\n",
    "sigma=0.007\n",
    "model=[]\n",
    "new_price=1\n",
    "for stocks in range(0,10000):\n",
    "    path=[]\n",
    "    for time in range(0,1000):\n",
    "        new_price=new_price*(mu+sigma*np.random.normal(0,1))\n",
    "        path.append(new_price)\n",
    "    model.append(path)\n",
    "    \n",
    "    "
   ]
  },
  {
   "cell_type": "code",
   "execution_count": 4,
   "id": "b4c62b18",
   "metadata": {},
   "outputs": [],
   "source": [
    "russel_index=[]\n",
    "for i in range(0,1000,50): \n",
    "    ind_val=pd.DataFrame(sorted(model[i],reverse=True)).head(1000).mean()\n",
    "    russel_index.append(ind_val)\n",
    "    "
   ]
  },
  {
   "cell_type": "code",
   "execution_count": 5,
   "id": "dc905221",
   "metadata": {},
   "outputs": [
    {
     "data": {
      "text/plain": [
       "20"
      ]
     },
     "execution_count": 5,
     "metadata": {},
     "output_type": "execute_result"
    }
   ],
   "source": [
    "len(russel_index)"
   ]
  },
  {
   "cell_type": "code",
   "execution_count": 6,
   "id": "edc7f8e5",
   "metadata": {},
   "outputs": [],
   "source": [
    "#plt.plot(russel_index)"
   ]
  },
  {
   "cell_type": "code",
   "execution_count": null,
   "id": "0128223b",
   "metadata": {},
   "outputs": [],
   "source": []
  },
  {
   "cell_type": "code",
   "execution_count": 7,
   "id": "58f569f0",
   "metadata": {},
   "outputs": [
    {
     "data": {
      "text/plain": [
       "[<matplotlib.lines.Line2D at 0x7facaac34220>]"
      ]
     },
     "execution_count": 7,
     "metadata": {},
     "output_type": "execute_result"
    },
    {
     "data": {
      "image/png": "[encoded data removed]",
      "text/plain": [
       "<Figure size 432x288 with 1 Axes>"
      ]
     },
     "metadata": {
      "needs_background": "light"
     },
     "output_type": "display_data"
    }
   ],
   "source": [
    "model_path=pd.Series(russel_index)\n",
    "\n",
    "plt.plot(np.arange(1, len(model_path)+1),model_path.pct_change().dropna())\n"
   ]
  },
  {
   "cell_type": "code",
   "execution_count": 12,
   "id": "b33f7618",
   "metadata": {},
   "outputs": [
    {
     "data": {
      "text/plain": [
       "(-3.7684280079431085,\n",
       " 0.003247368575069438,\n",
       " 0,\n",
       " 18,\n",
       " {'1%': -3.859073285322359,\n",
       "  '5%': -3.0420456927297668,\n",
       "  '10%': -2.6609064197530863},\n",
       " 19.645969984620727)"
      ]
     },
     "execution_count": 12,
     "metadata": {},
     "output_type": "execute_result"
    }
   ],
   "source": [
    "#1.2\n",
    "russel_return=model_path.pct_change().dropna()\n",
    "from statsmodels.tsa.stattools import adfuller\n",
    "adfuller(russel_return[1:,])"
   ]
  },
  {
   "cell_type": "code",
   "execution_count": 13,
   "id": "b1da5a8e",
   "metadata": {},
   "outputs": [],
   "source": [
    "#1.3\n",
    "returns_0 = russel_return[1:,].values.tolist()"
   ]
  },
  {
   "cell_type": "code",
   "execution_count": 14,
   "id": "e7ae1409",
   "metadata": {},
   "outputs": [
    {
     "data": {
      "image/png": "[encoded data removed]",
      "text/plain": [
       "<Figure size 432x288 with 1 Axes>"
      ]
     },
     "metadata": {
      "needs_background": "light"
     },
     "output_type": "display_data"
    }
   ],
   "source": [
    "returns_1 =[]\n",
    "for i in range(0,len(russel_return[1:,]),2):# calculate average return for each of 100 periods.\n",
    "    c=returns_0[i]\n",
    "    returns_1.append(c)\n",
    "\n",
    "plt.plot(np.arange(1, len(returns_1)+1), returns_1, marker=10)\n",
    "plt.show()"
   ]
  },
  {
   "cell_type": "code",
   "execution_count": 15,
   "id": "f9e6a349",
   "metadata": {},
   "outputs": [],
   "source": [
    "#1.4\n",
    "index=[]\n",
    "for i in range(0,1000,100): #update 10000 process around 100 periods.\n",
    "    val=pd.DataFrame(model[i]).mean()\n",
    "    index.append(val)\n",
    "index=pd.DataFrame(index)"
   ]
  },
  {
   "cell_type": "code",
   "execution_count": 16,
   "id": "35939634",
   "metadata": {},
   "outputs": [
    {
     "data": {
      "image/png": "[encoded data removed]",
      "text/plain": [
       "<Figure size 432x288 with 1 Axes>"
      ]
     },
     "metadata": {
      "needs_background": "light"
     },
     "output_type": "display_data"
    }
   ],
   "source": [
    "returns0_100 = index.pct_change()# calculate average return for each of 100 periods.\n",
    "returns0_100 = returns0_100.dropna(how='all').dropna(axis=1)\n",
    "returns1_100=returns0_100.values.tolist()\n",
    "plt.plot(np.arange(1, len(returns1_100)+1), returns1_100, marker=9)\n",
    "plt.show()"
   ]
  },
  {
   "cell_type": "code",
   "execution_count": 17,
   "id": "90cafe01",
   "metadata": {},
   "outputs": [],
   "source": [
    "#1.5"
   ]
  },
  {
   "cell_type": "markdown",
   "id": "5b812c44",
   "metadata": {},
   "source": [
    "Based on the results here:\n",
    "\n",
    "\n",
    "Overall, We can tell that Russell 1000 have a better performance (higher average returns, smaller vairance among stocks), while the overall 10,000 stocks' returns are much lower and it has larger variance between different stock's returns. Return series p-value is close to 0, which means it doesn't have a unit root.\n",
    "The plot(4) seems closer to plot(2), it's better to use the overall market head return to calculate the index instead of using the head of each 50 period average head return.\n",
    "\n"
   ]
  },
  {
   "cell_type": "markdown",
   "id": "df3e9019",
   "metadata": {},
   "source": [
    "# Question2"
   ]
  },
  {
   "cell_type": "markdown",
   "id": "74fb801f",
   "metadata": {},
   "source": [
    "(1) Plot the return processes of the 11 selected sector ETFs and the S&P 500 index. Using a scree plot and by analyzing the eigenvalues of the correlation matrix, choose a sufficient number of factors.\n",
    "(2) Upon finding the adequate number of factors, use the vari- max method to find a final rotated factor solution. Build a factor model to predict the S&P 500 stock index returns.\n",
    "(3) Apply the factor sorting method on the most important fac- tor and design a long-short strategy for the 11 selected sec- tors where you put the neutral return stocks in the middle bucket and divide the positive and negative factor stocks evenly into other four buckets. In this, we assume a nor- mal distribution of the factor value, and we long the best performing bucket and short the worst performing bucket. Compare this strategy with the benchmark return of the S&P 500 stock index return.\n"
   ]
  },
  {
   "cell_type": "code",
   "execution_count": null,
   "id": "0f639fc5",
   "metadata": {},
   "outputs": [],
   "source": []
  },
  {
   "cell_type": "code",
   "execution_count": null,
   "id": "26a166a6",
   "metadata": {},
   "outputs": [],
   "source": []
  },
  {
   "cell_type": "code",
   "execution_count": null,
   "id": "e8474176",
   "metadata": {},
   "outputs": [],
   "source": []
  }
 ],
 "metadata": {
  "kernelspec": {
   "display_name": "Python 3 (ipykernel)",
   "language": "python",
   "name": "python3"
  },
  "language_info": {
   "codemirror_mode": {
    "name": "ipython",
    "version": 3
   },
   "file_extension": ".py",
   "mimetype": "text/x-python",
   "name": "python",
   "nbconvert_exporter": "python",
   "pygments_lexer": "ipython3",
   "version": "3.9.7"
  }
 },
 "nbformat": 4,
 "nbformat_minor": 5
}
