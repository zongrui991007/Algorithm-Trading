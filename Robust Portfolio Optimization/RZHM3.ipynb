{
 "cells": [
  {
   "cell_type": "markdown",
   "id": "1e073d93",
   "metadata": {},
   "source": [
    "# Question1"
   ]
  },
  {
   "cell_type": "markdown",
   "id": "adb12a7d",
   "metadata": {},
   "source": [
    "1.1"
   ]
  },
  {
   "cell_type": "code",
   "execution_count": 1,
   "id": "70203e55",
   "metadata": {},
   "outputs": [],
   "source": [
    "import pandas as pd\n",
    "import numpy as np\n",
    "from numpy.linalg import inv\n",
    "from cvxopt import matrix, solvers\n",
    "from numpy import c_\n",
    "import matplotlib.pyplot as plt"
   ]
  },
  {
   "cell_type": "code",
   "execution_count": 62,
   "id": "e56cb8df",
   "metadata": {},
   "outputs": [
    {
     "name": "stdout",
     "output_type": "stream",
     "text": [
      "[[ 0.01 -0.01]\n",
      " [-0.01  0.04]] \n",
      " [[133.33333333  33.33333333]\n",
      " [ 33.33333333  33.33333333]]\n"
     ]
    }
   ],
   "source": [
    "cov = np.matrix([[0.01,-0.01],[-0.01,0.04]])\n",
    "cov_matrix = inv(cov)\n",
    "print(cov,\"\\n\", cov_matrix)"
   ]
  },
  {
   "cell_type": "code",
   "execution_count": 63,
   "id": "f21c8c48",
   "metadata": {},
   "outputs": [],
   "source": [
    "I = np.array([1,1])\n",
    "u = np.array([0.05, 0.1])"
   ]
  },
  {
   "cell_type": "code",
   "execution_count": 64,
   "id": "c30599f8",
   "metadata": {},
   "outputs": [
    {
     "data": {
      "text/plain": [
       "233.33333333333337"
      ]
     },
     "execution_count": 64,
     "metadata": {},
     "output_type": "execute_result"
    }
   ],
   "source": [
    "A = np.dot(np.matmul(I,cov_matrix), I).sum()\n",
    "A"
   ]
  },
  {
   "cell_type": "code",
   "execution_count": 65,
   "id": "021a3058",
   "metadata": {},
   "outputs": [
    {
     "data": {
      "text/plain": [
       "15.000000000000002"
      ]
     },
     "execution_count": 65,
     "metadata": {},
     "output_type": "execute_result"
    }
   ],
   "source": [
    "B = np.dot(np.matmul(I,cov_matrix), u).sum()\n",
    "B"
   ]
  },
  {
   "cell_type": "code",
   "execution_count": 66,
   "id": "4a98c8e7",
   "metadata": {},
   "outputs": [
    {
     "data": {
      "text/plain": [
       "1.0000000000000002"
      ]
     },
     "execution_count": 66,
     "metadata": {},
     "output_type": "execute_result"
    }
   ],
   "source": [
    "C = np.dot(np.matmul(u,cov_matrix), u).sum()\n",
    "C"
   ]
  },
  {
   "cell_type": "code",
   "execution_count": 67,
   "id": "e2690306",
   "metadata": {},
   "outputs": [
    {
     "data": {
      "text/plain": [
       "8.333333333333371"
      ]
     },
     "execution_count": 67,
     "metadata": {},
     "output_type": "execute_result"
    }
   ],
   "source": [
    "delta = A*C - B*B\n",
    "delta"
   ]
  },
  {
   "cell_type": "code",
   "execution_count": 68,
   "id": "1d785ef9",
   "metadata": {},
   "outputs": [
    {
     "name": "stdout",
     "output_type": "stream",
     "text": [
      "[[3.]]\n",
      "[[-0.06]\n",
      " [-0.24]]\n"
     ]
    }
   ],
   "source": [
    "mean_0 = matrix([0.1, 0.2])\n",
    "delta = A * C-(B**2)\n",
    "lamba = (C - mean_0 * B) / delta\n",
    "gamma = (mean_0 * A - B) / delta\n",
    "sigma0 = (A * mean_0**2 - 2 * B * mean_0 + C) / delta\n",
    "\n",
    "w1=np.dot(np.dot(lamba.T,cov_matrix),I)+np.dot(np.dot(gamma.T,cov_matrix),u)\n",
    "\n",
    "\n",
    "print(w1)\n",
    "print(lamba)"
   ]
  },
  {
   "cell_type": "code",
   "execution_count": 69,
   "id": "de7decb2",
   "metadata": {},
   "outputs": [],
   "source": [
    "mu = np.array( [0.05, 0.1]).T \n",
    "sigma = np.matrix(np.array( [[0.01, -0.01], \n",
    "                   [-0.01, 0.04]]))  \n",
    "sigma_inv = inv(sigma) \n",
    " \n",
    "# Efficient frontier \n",
    "returns = [] \n",
    "risks = [] \n",
    "portReturn = [] \n",
    " \n",
    "steps = 200 \n",
    "w0 = np.linspace(-1, 1, steps , endpoint = False) \n",
    " \n",
    "for i in range(steps): \n",
    "    w = np.array( [ w0[i], (1 - w0[i]) ] ).T \n",
    "    cur_re = (w.T.dot(mu)).sum() \n",
    "    cur_risk = w.T.dot( (sigma.dot(w)).reshape(2, 1) ) \n",
    "    cur_risk = cur_risk.sum() \n",
    "     \n",
    "    returns.append(cur_re) \n",
    "    risks.append(cur_risk) "
   ]
  },
  {
   "cell_type": "code",
   "execution_count": 70,
   "id": "36263b7b",
   "metadata": {},
   "outputs": [
    {
     "data": {
      "text/plain": [
       "Text(0.5, 0, 'SD(r)')"
      ]
     },
     "execution_count": 70,
     "metadata": {},
     "output_type": "execute_result"
    },
    {
     "data": {
      "image/png": "[encoded data removed]",
      "text/plain": [
       "<Figure size 432x288 with 1 Axes>"
      ]
     },
     "metadata": {
      "needs_background": "light"
     },
     "output_type": "display_data"
    }
   ],
   "source": [
    "# plt.plot(np.sqrt(risks), rp, label = 'Efficient Frontier')  \n",
    "plt.plot(np.sqrt(risks), returns, label = 'Efficient Frontier') \n",
    "plt.xlim(0, .4) \n",
    "plt.ylim(0, 0.16) \n",
    "plt.xlabel('SD(r)') "
   ]
  },
  {
   "cell_type": "code",
   "execution_count": 309,
   "id": "17a9672e",
   "metadata": {},
   "outputs": [
    {
     "name": "stdout",
     "output_type": "stream",
     "text": [
      "var= 0.03999999999999986\n"
     ]
    }
   ],
   "source": [
    "mu0 = 0.10\n",
    "var = (A * mu0*mu0 - 2 * B * mu0 + C) / delta\n",
    "\n",
    "print(\"var=\",var)"
   ]
  },
  {
   "cell_type": "markdown",
   "id": "a79c0817",
   "metadata": {},
   "source": [
    "the first var is 0.4"
   ]
  },
  {
   "cell_type": "markdown",
   "id": "f65a2be4",
   "metadata": {},
   "source": [
    "1.2"
   ]
  },
  {
   "cell_type": "code",
   "execution_count": 2,
   "id": "a792a8b2",
   "metadata": {},
   "outputs": [],
   "source": [
    "import pandas as pd\n",
    "import numpy as np\n",
    "import matplotlib.pyplot as plt"
   ]
  },
  {
   "cell_type": "code",
   "execution_count": 3,
   "id": "25b17075",
   "metadata": {},
   "outputs": [
    {
     "data": {
      "text/plain": [
       "matrix([[ 0.01, -0.01],\n",
       "        [-0.01,  0.04]])"
      ]
     },
     "execution_count": 3,
     "metadata": {},
     "output_type": "execute_result"
    }
   ],
   "source": [
    "sig_hat =np.matrix([[0.01,-0.01],[-0.01,0.04]])\n",
    "sig_hat"
   ]
  },
  {
   "cell_type": "code",
   "execution_count": 4,
   "id": "83314e21",
   "metadata": {},
   "outputs": [
    {
     "data": {
      "text/plain": [
       "matrix([[133.33333333,  33.33333333],\n",
       "        [ 33.33333333,  33.33333333]])"
      ]
     },
     "execution_count": 4,
     "metadata": {},
     "output_type": "execute_result"
    }
   ],
   "source": [
    "sig_hat_inv= np.linalg.inv(sig_hat)\n",
    "sig_hat_inv"
   ]
  },
  {
   "cell_type": "code",
   "execution_count": 5,
   "id": "e6c24e45",
   "metadata": {},
   "outputs": [
    {
     "data": {
      "text/plain": [
       "array([[0.05],\n",
       "       [0.1 ]])"
      ]
     },
     "execution_count": 5,
     "metadata": {},
     "output_type": "execute_result"
    }
   ],
   "source": [
    "I = np.matrix([1,1]).reshape(2,-1)\n",
    "mu_hat= np.array([0.05, 0.1]).reshape(2,-1)\n",
    "mu_hat"
   ]
  },
  {
   "cell_type": "code",
   "execution_count": 6,
   "id": "0be50b70",
   "metadata": {},
   "outputs": [],
   "source": [
    "mu_0=0.1"
   ]
  },
  {
   "cell_type": "code",
   "execution_count": 7,
   "id": "5305f29a",
   "metadata": {},
   "outputs": [
    {
     "data": {
      "text/plain": [
       "matrix([[15.]])"
      ]
     },
     "execution_count": 7,
     "metadata": {},
     "output_type": "execute_result"
    }
   ],
   "source": [
    "np.dot(np.matmul(I.T,sig_hat_inv),mu_hat)"
   ]
  },
  {
   "cell_type": "code",
   "execution_count": 8,
   "id": "5dfd6767",
   "metadata": {},
   "outputs": [
    {
     "data": {
      "text/plain": [
       "0.06428571428571428"
      ]
     },
     "execution_count": 8,
     "metadata": {},
     "output_type": "execute_result"
    }
   ],
   "source": [
    "mu_g=np.dot(np.matmul(I.T,sig_hat_inv),mu_hat).sum()/np.matmul(np.matmul(I.T,sig_hat_inv),I).sum()\n",
    "mu_g"
   ]
  },
  {
   "cell_type": "code",
   "execution_count": 9,
   "id": "4b2a4271",
   "metadata": {},
   "outputs": [],
   "source": [
    "rou=0.5"
   ]
  },
  {
   "cell_type": "code",
   "execution_count": 10,
   "id": "4bdece37",
   "metadata": {},
   "outputs": [
    {
     "data": {
      "text/plain": [
       "matrix([[ 1. , -0.5],\n",
       "        [-0.5,  1. ]])"
      ]
     },
     "execution_count": 10,
     "metadata": {},
     "output_type": "execute_result"
    }
   ],
   "source": [
    "cc=np.matrix([1,-0.5,-0.5,1]).reshape(2,-1)\n",
    "cc"
   ]
  },
  {
   "cell_type": "code",
   "execution_count": 11,
   "id": "1f79e2b2",
   "metadata": {},
   "outputs": [
    {
     "data": {
      "text/plain": [
       "matrix([[0.1, 0. ],\n",
       "        [0. , 0.2]])"
      ]
     },
     "execution_count": 11,
     "metadata": {},
     "output_type": "execute_result"
    }
   ],
   "source": [
    "lamb=np.matrix([np.sqrt(0.01),0,0,np.sqrt(0.04)]).reshape(2,-1)\n",
    "lamb"
   ]
  },
  {
   "cell_type": "code",
   "execution_count": 12,
   "id": "42479260",
   "metadata": {},
   "outputs": [
    {
     "data": {
      "text/plain": [
       "0.9911504424778761"
      ]
     },
     "execution_count": 12,
     "metadata": {},
     "output_type": "execute_result"
    }
   ],
   "source": [
    "N=2\n",
    "t=1\n",
    "w=(N+2)/ (N+2+t*np.matmul(np.matmul((mu_hat-mu_g*I).T,sig_hat_inv),(mu_hat-mu_g*I)).sum())\n",
    "w"
   ]
  },
  {
   "cell_type": "code",
   "execution_count": 13,
   "id": "6f80a398",
   "metadata": {},
   "outputs": [
    {
     "data": {
      "text/plain": [
       "0.1"
      ]
     },
     "execution_count": 13,
     "metadata": {},
     "output_type": "execute_result"
    }
   ],
   "source": [
    "mu_0"
   ]
  },
  {
   "cell_type": "code",
   "execution_count": 14,
   "id": "0e4fd2c3",
   "metadata": {},
   "outputs": [
    {
     "data": {
      "text/plain": [
       "array([[0.05],\n",
       "       [0.1 ]])"
      ]
     },
     "execution_count": 14,
     "metadata": {},
     "output_type": "execute_result"
    }
   ],
   "source": [
    "mu_hat"
   ]
  },
  {
   "cell_type": "code",
   "execution_count": 15,
   "id": "71e34a88",
   "metadata": {},
   "outputs": [
    {
     "data": {
      "text/plain": [
       "array([[0.00044248],\n",
       "       [0.00088496]])"
      ]
     },
     "execution_count": 15,
     "metadata": {},
     "output_type": "execute_result"
    }
   ],
   "source": [
    "(1 - w) * mu_hat"
   ]
  },
  {
   "cell_type": "code",
   "execution_count": 16,
   "id": "0fd97f1c",
   "metadata": {},
   "outputs": [
    {
     "data": {
      "text/plain": [
       "matrix([[0.06371681, 0.06371681]])"
      ]
     },
     "execution_count": 16,
     "metadata": {},
     "output_type": "execute_result"
    }
   ],
   "source": [
    "w*mu_g*I.T"
   ]
  },
  {
   "cell_type": "code",
   "execution_count": 17,
   "id": "fceb10f1",
   "metadata": {},
   "outputs": [
    {
     "data": {
      "text/plain": [
       "matrix([[1],\n",
       "        [1]])"
      ]
     },
     "execution_count": 17,
     "metadata": {},
     "output_type": "execute_result"
    }
   ],
   "source": [
    "I"
   ]
  },
  {
   "cell_type": "code",
   "execution_count": 18,
   "id": "4e833d1c",
   "metadata": {},
   "outputs": [
    {
     "data": {
      "text/plain": [
       "matrix([[0.09955752],\n",
       "        [0.1       ]])"
      ]
     },
     "execution_count": 18,
     "metadata": {},
     "output_type": "execute_result"
    }
   ],
   "source": [
    "mu_js = (1 - w) * mu_hat+ w*mu_0*I\n",
    "mu_js"
   ]
  },
  {
   "cell_type": "code",
   "execution_count": 19,
   "id": "9f8f13d0",
   "metadata": {},
   "outputs": [
    {
     "data": {
      "text/plain": [
       "matrix([[ 1. , -0.5],\n",
       "        [-0.5,  1. ]])"
      ]
     },
     "execution_count": 19,
     "metadata": {},
     "output_type": "execute_result"
    }
   ],
   "source": [
    "c=cc\n",
    "c"
   ]
  },
  {
   "cell_type": "code",
   "execution_count": 20,
   "id": "9411af16",
   "metadata": {},
   "outputs": [
    {
     "data": {
      "text/plain": [
       "matrix([[ 0.01, -0.01],\n",
       "        [-0.01,  0.04]])"
      ]
     },
     "execution_count": 20,
     "metadata": {},
     "output_type": "execute_result"
    }
   ],
   "source": [
    "sig_new=np.matmul(np.matmul(lamb.T,c),lamb)\n",
    "sig_new"
   ]
  },
  {
   "cell_type": "code",
   "execution_count": 21,
   "id": "b51b470c",
   "metadata": {},
   "outputs": [
    {
     "data": {
      "text/plain": [
       "array([[ 0.0002 , -0.0005 ],\n",
       "       [-0.0005 ,  0.00125]])"
      ]
     },
     "execution_count": 21,
     "metadata": {},
     "output_type": "execute_result"
    }
   ],
   "source": [
    "sig_cc=np.cov(sig_new)\n",
    "sig_cc"
   ]
  },
  {
   "cell_type": "code",
   "execution_count": 22,
   "id": "1015fa8f",
   "metadata": {},
   "outputs": [
    {
     "data": {
      "text/plain": [
       "0.9911504424778761"
      ]
     },
     "execution_count": 22,
     "metadata": {},
     "output_type": "execute_result"
    }
   ],
   "source": [
    "w"
   ]
  },
  {
   "cell_type": "code",
   "execution_count": 23,
   "id": "972da207",
   "metadata": {},
   "outputs": [
    {
     "data": {
      "text/plain": [
       "matrix([[ 0.99115044, -0.49557522],\n",
       "        [-0.49557522,  0.99115044]])"
      ]
     },
     "execution_count": 23,
     "metadata": {},
     "output_type": "execute_result"
    }
   ],
   "source": [
    "w*c"
   ]
  },
  {
   "cell_type": "code",
   "execution_count": 24,
   "id": "92e56c83",
   "metadata": {},
   "outputs": [
    {
     "data": {
      "text/plain": [
       "matrix([[ 0.00028673, -0.00058407],\n",
       "        [-0.00058407,  0.00159292]])"
      ]
     },
     "execution_count": 24,
     "metadata": {},
     "output_type": "execute_result"
    }
   ],
   "source": [
    "LW=w*sig_cc+(1-w)*sig_new\n",
    "LW"
   ]
  },
  {
   "cell_type": "code",
   "execution_count": 25,
   "id": "6b11cfde",
   "metadata": {},
   "outputs": [
    {
     "data": {
      "text/plain": [
       "0.9911504424778761"
      ]
     },
     "execution_count": 25,
     "metadata": {},
     "output_type": "execute_result"
    }
   ],
   "source": [
    "w#this is new weights "
   ]
  },
  {
   "cell_type": "code",
   "execution_count": 26,
   "id": "d792e79a",
   "metadata": {},
   "outputs": [],
   "source": [
    "risk_new = [] \n",
    "returns_new = []\n",
    "steps = 200\n",
    "w0 = np.linspace(0, 1, steps , endpoint = False)\n",
    "for i in range(steps):\n",
    "    w = np.array( [ w0[i], (1 - w0[i]) ] ).T\n",
    "    cur_re = (w.T.dot(mu_js.reshape(2,1))).sum()\n",
    "    cur_risk = w.T.dot((LW.dot(w)).reshape(2,1)) \n",
    "    cur_risk = cur_risk.sum() \n",
    "    returns_new.append(cur_re) \n",
    "    risk_new.append(cur_risk)"
   ]
  },
  {
   "cell_type": "code",
   "execution_count": 27,
   "id": "e1478b9f",
   "metadata": {},
   "outputs": [
    {
     "data": {
      "image/png": "[encoded data removed]",
      "text/plain": [
       "<Figure size 432x288 with 1 Axes>"
      ]
     },
     "metadata": {
      "needs_background": "light"
     },
     "output_type": "display_data"
    }
   ],
   "source": [
    "plt.plot(np.sqrt(risk_new), returns_new, label = 'Efficient Frontier', color = 'green')\n",
    "\n",
    "#plt.plot(np.sqrt(risks), returns)\n",
    "#plt.plot(np.sqrt(risks), returns)\n",
    "plt.title('Efficient Frontier of the portfolio')\n",
    "plt.xlabel('Risk')\n",
    "plt.ylabel('Returns')\n",
    "plt.legend()\n",
    "plt.show()"
   ]
  },
  {
   "cell_type": "code",
   "execution_count": 28,
   "id": "39e4f24b",
   "metadata": {},
   "outputs": [
    {
     "data": {
      "text/plain": [
       "matrix([[ 0.00028673, -0.00058407],\n",
       "        [-0.00058407,  0.00159292]])"
      ]
     },
     "execution_count": 28,
     "metadata": {},
     "output_type": "execute_result"
    }
   ],
   "source": [
    "LW"
   ]
  },
  {
   "cell_type": "code",
   "execution_count": 29,
   "id": "43f7ac7f",
   "metadata": {},
   "outputs": [
    {
     "data": {
      "text/plain": [
       "matrix([[18833.33333333,  7533.33333333]])"
      ]
     },
     "execution_count": 29,
     "metadata": {},
     "output_type": "execute_result"
    }
   ],
   "source": [
    "I=I.reshape(1,-1)\n",
    "np.matmul(I,inv(LW))"
   ]
  },
  {
   "cell_type": "code",
   "execution_count": 30,
   "id": "74711244",
   "metadata": {},
   "outputs": [
    {
     "data": {
      "text/plain": [
       "matrix([[1],\n",
       "        [1]])"
      ]
     },
     "execution_count": 30,
     "metadata": {},
     "output_type": "execute_result"
    }
   ],
   "source": [
    "I.reshape(2,-1)"
   ]
  },
  {
   "cell_type": "code",
   "execution_count": 31,
   "id": "bfb768da",
   "metadata": {},
   "outputs": [
    {
     "data": {
      "text/plain": [
       "matrix([[26366.66666667]])"
      ]
     },
     "execution_count": 31,
     "metadata": {},
     "output_type": "execute_result"
    }
   ],
   "source": [
    "np.matmul(np.matmul(I,inv(LW)),I.reshape(2,-1))"
   ]
  },
  {
   "cell_type": "code",
   "execution_count": 32,
   "id": "95d1bb3e",
   "metadata": {},
   "outputs": [],
   "source": [
    "A1= np.matmul(np.matmul(I,inv(LW)),I.reshape(2,-1))\n",
    "B1= np.matmul(np.matmul(I,inv(LW)),mu_js)\n",
    "C1= np.matmul(np.matmul(mu_js.T,inv(LW)),mu_js)\n",
    "delta1=A1*C1-B1*B1"
   ]
  },
  {
   "cell_type": "code",
   "execution_count": 33,
   "id": "7fe02913",
   "metadata": {},
   "outputs": [
    {
     "data": {
      "text/plain": [
       "matrix([[1.69376694]])"
      ]
     },
     "execution_count": 33,
     "metadata": {},
     "output_type": "execute_result"
    }
   ],
   "source": [
    "A1*C1-B1*B1"
   ]
  },
  {
   "cell_type": "code",
   "execution_count": 34,
   "id": "0beb9639",
   "metadata": {},
   "outputs": [
    {
     "data": {
      "text/plain": [
       "matrix([[1.69376694]])"
      ]
     },
     "execution_count": 34,
     "metadata": {},
     "output_type": "execute_result"
    }
   ],
   "source": [
    "delta1"
   ]
  },
  {
   "cell_type": "code",
   "execution_count": 35,
   "id": "8b84e313",
   "metadata": {},
   "outputs": [
    {
     "name": "stdout",
     "output_type": "stream",
     "text": [
      "var_new= [[0.00159292]]\n"
     ]
    }
   ],
   "source": [
    "mu0 = 0.10\n",
    "var_new = (A1 * mu0*mu0 - 2 * B1 * mu0 + C1) / delta1\n",
    "print(\"var_new=\",var_new )\n"
   ]
  },
  {
   "cell_type": "markdown",
   "id": "26867e9f",
   "metadata": {},
   "source": [
    "the new var is 0.0016"
   ]
  },
  {
   "cell_type": "markdown",
   "id": "de00b8b5",
   "metadata": {},
   "source": [
    "1.3"
   ]
  },
  {
   "cell_type": "markdown",
   "id": "bb832d02",
   "metadata": {},
   "source": [
    "The shrinkage method is better. The robust portfolio will gain a stable return with a low volatility method.\n",
    "In original method the min var is close to 0.005, max return point is close to 0.0997\n",
    "However, in original method the min var is close to 0.05,max return point is close to 0.07\n"
   ]
  },
  {
   "cell_type": "markdown",
   "id": "e6dd1aea",
   "metadata": {},
   "source": [
    "# Question 2"
   ]
  },
  {
   "cell_type": "markdown",
   "id": "055d1d67",
   "metadata": {},
   "source": [
    "2.1"
   ]
  },
  {
   "cell_type": "code",
   "execution_count": 646,
   "id": "43bdff0d",
   "metadata": {},
   "outputs": [],
   "source": [
    "df=pd.read_csv('SP20-2017-2021_Updated.csv',index_col=0)\n",
    "returns=df.pct_change()\n",
    "#returns"
   ]
  },
  {
   "cell_type": "code",
   "execution_count": 647,
   "id": "779ecf36",
   "metadata": {},
   "outputs": [
    {
     "data": {
      "text/html": [
       "<div>\n",
       "<style scoped>\n",
       "    .dataframe tbody tr th:only-of-type {\n",
       "        vertical-align: middle;\n",
       "    }\n",
       "\n",
       "    .dataframe tbody tr th {\n",
       "        vertical-align: top;\n",
       "    }\n",
       "\n",
       "    .dataframe thead th {\n",
       "        text-align: right;\n",
       "    }\n",
       "</style>\n",
       "<table border=\"1\" class=\"dataframe\">\n",
       "  <thead>\n",
       "    <tr style=\"text-align: right;\">\n",
       "      <th></th>\n",
       "      <th>CHK</th>\n",
       "      <th>AMD</th>\n",
       "      <th>LNT</th>\n",
       "      <th>FCX</th>\n",
       "      <th>VRTX</th>\n",
       "      <th>WMB</th>\n",
       "      <th>INCY</th>\n",
       "      <th>NFLX</th>\n",
       "      <th>MRO</th>\n",
       "      <th>MU</th>\n",
       "      <th>MCD</th>\n",
       "      <th>BRK-B</th>\n",
       "      <th>SO</th>\n",
       "      <th>T</th>\n",
       "      <th>KO</th>\n",
       "      <th>PG</th>\n",
       "      <th>JNJ</th>\n",
       "      <th>WM</th>\n",
       "      <th>RSG</th>\n",
       "      <th>PEP</th>\n",
       "    </tr>\n",
       "    <tr>\n",
       "      <th>Date</th>\n",
       "      <th></th>\n",
       "      <th></th>\n",
       "      <th></th>\n",
       "      <th></th>\n",
       "      <th></th>\n",
       "      <th></th>\n",
       "      <th></th>\n",
       "      <th></th>\n",
       "      <th></th>\n",
       "      <th></th>\n",
       "      <th></th>\n",
       "      <th></th>\n",
       "      <th></th>\n",
       "      <th></th>\n",
       "      <th></th>\n",
       "      <th></th>\n",
       "      <th></th>\n",
       "      <th></th>\n",
       "      <th></th>\n",
       "      <th></th>\n",
       "    </tr>\n",
       "  </thead>\n",
       "  <tbody>\n",
       "    <tr>\n",
       "      <th>2021-02-11</th>\n",
       "      <td>-0.048678</td>\n",
       "      <td>0.003357</td>\n",
       "      <td>-0.008347</td>\n",
       "      <td>-0.008003</td>\n",
       "      <td>-0.009552</td>\n",
       "      <td>-0.023235</td>\n",
       "      <td>-0.002113</td>\n",
       "      <td>-0.010646</td>\n",
       "      <td>-0.037404</td>\n",
       "      <td>0.050152</td>\n",
       "      <td>-0.000606</td>\n",
       "      <td>-0.000667</td>\n",
       "      <td>0.005908</td>\n",
       "      <td>0.004904</td>\n",
       "      <td>0.014113</td>\n",
       "      <td>0.000858</td>\n",
       "      <td>-0.004496</td>\n",
       "      <td>-0.004134</td>\n",
       "      <td>0.008506</td>\n",
       "      <td>-0.019826</td>\n",
       "    </tr>\n",
       "    <tr>\n",
       "      <th>2021-02-12</th>\n",
       "      <td>-0.006776</td>\n",
       "      <td>0.011979</td>\n",
       "      <td>-0.008622</td>\n",
       "      <td>0.007744</td>\n",
       "      <td>0.016532</td>\n",
       "      <td>0.025135</td>\n",
       "      <td>-0.007766</td>\n",
       "      <td>-0.001919</td>\n",
       "      <td>0.025143</td>\n",
       "      <td>0.017692</td>\n",
       "      <td>-0.001727</td>\n",
       "      <td>0.011261</td>\n",
       "      <td>-0.009068</td>\n",
       "      <td>0.003834</td>\n",
       "      <td>0.007753</td>\n",
       "      <td>-0.005533</td>\n",
       "      <td>0.003131</td>\n",
       "      <td>0.000265</td>\n",
       "      <td>-0.000329</td>\n",
       "      <td>-0.008150</td>\n",
       "    </tr>\n",
       "    <tr>\n",
       "      <th>2021-02-16</th>\n",
       "      <td>0.024465</td>\n",
       "      <td>-0.024635</td>\n",
       "      <td>-0.009733</td>\n",
       "      <td>0.053474</td>\n",
       "      <td>-0.017338</td>\n",
       "      <td>0.003065</td>\n",
       "      <td>-0.026088</td>\n",
       "      <td>0.001366</td>\n",
       "      <td>0.068233</td>\n",
       "      <td>-0.003068</td>\n",
       "      <td>0.005283</td>\n",
       "      <td>0.011631</td>\n",
       "      <td>-0.013311</td>\n",
       "      <td>0.005903</td>\n",
       "      <td>-0.008286</td>\n",
       "      <td>0.002351</td>\n",
       "      <td>-0.009065</td>\n",
       "      <td>-0.005740</td>\n",
       "      <td>-0.009643</td>\n",
       "      <td>0.003810</td>\n",
       "    </tr>\n",
       "    <tr>\n",
       "      <th>2021-02-17</th>\n",
       "      <td>0.016303</td>\n",
       "      <td>-0.016619</td>\n",
       "      <td>0.008574</td>\n",
       "      <td>0.037994</td>\n",
       "      <td>0.021782</td>\n",
       "      <td>0.007857</td>\n",
       "      <td>0.019968</td>\n",
       "      <td>-0.010659</td>\n",
       "      <td>0.003141</td>\n",
       "      <td>-0.019261</td>\n",
       "      <td>-0.007348</td>\n",
       "      <td>-0.000122</td>\n",
       "      <td>-0.000506</td>\n",
       "      <td>0.020711</td>\n",
       "      <td>-0.002785</td>\n",
       "      <td>0.004221</td>\n",
       "      <td>0.003574</td>\n",
       "      <td>-0.003463</td>\n",
       "      <td>-0.003319</td>\n",
       "      <td>0.000595</td>\n",
       "    </tr>\n",
       "    <tr>\n",
       "      <th>2021-02-18</th>\n",
       "      <td>-0.028468</td>\n",
       "      <td>-0.014454</td>\n",
       "      <td>0.007879</td>\n",
       "      <td>-0.000293</td>\n",
       "      <td>-0.023365</td>\n",
       "      <td>-0.035946</td>\n",
       "      <td>-0.026501</td>\n",
       "      <td>-0.005659</td>\n",
       "      <td>-0.048017</td>\n",
       "      <td>0.028937</td>\n",
       "      <td>0.009276</td>\n",
       "      <td>-0.007136</td>\n",
       "      <td>0.009786</td>\n",
       "      <td>-0.011498</td>\n",
       "      <td>0.012767</td>\n",
       "      <td>0.008329</td>\n",
       "      <td>0.000483</td>\n",
       "      <td>0.010872</td>\n",
       "      <td>0.018206</td>\n",
       "      <td>0.006768</td>\n",
       "    </tr>\n",
       "    <tr>\n",
       "      <th>...</th>\n",
       "      <td>...</td>\n",
       "      <td>...</td>\n",
       "      <td>...</td>\n",
       "      <td>...</td>\n",
       "      <td>...</td>\n",
       "      <td>...</td>\n",
       "      <td>...</td>\n",
       "      <td>...</td>\n",
       "      <td>...</td>\n",
       "      <td>...</td>\n",
       "      <td>...</td>\n",
       "      <td>...</td>\n",
       "      <td>...</td>\n",
       "      <td>...</td>\n",
       "      <td>...</td>\n",
       "      <td>...</td>\n",
       "      <td>...</td>\n",
       "      <td>...</td>\n",
       "      <td>...</td>\n",
       "      <td>...</td>\n",
       "    </tr>\n",
       "    <tr>\n",
       "      <th>2021-11-01</th>\n",
       "      <td>0.032162</td>\n",
       "      <td>0.041587</td>\n",
       "      <td>0.004950</td>\n",
       "      <td>0.016172</td>\n",
       "      <td>0.002542</td>\n",
       "      <td>0.016020</td>\n",
       "      <td>0.035384</td>\n",
       "      <td>-0.013240</td>\n",
       "      <td>0.043505</td>\n",
       "      <td>0.023155</td>\n",
       "      <td>0.020485</td>\n",
       "      <td>-0.002683</td>\n",
       "      <td>0.002567</td>\n",
       "      <td>0.004355</td>\n",
       "      <td>-0.003548</td>\n",
       "      <td>-0.002448</td>\n",
       "      <td>0.000860</td>\n",
       "      <td>-0.005929</td>\n",
       "      <td>-0.014487</td>\n",
       "      <td>-0.002104</td>\n",
       "    </tr>\n",
       "    <tr>\n",
       "      <th>2021-11-02</th>\n",
       "      <td>-0.006384</td>\n",
       "      <td>0.019165</td>\n",
       "      <td>0.004046</td>\n",
       "      <td>0.005740</td>\n",
       "      <td>-0.021575</td>\n",
       "      <td>-0.005256</td>\n",
       "      <td>-0.084643</td>\n",
       "      <td>-0.005065</td>\n",
       "      <td>-0.006459</td>\n",
       "      <td>0.000849</td>\n",
       "      <td>-0.005348</td>\n",
       "      <td>0.005904</td>\n",
       "      <td>0.000160</td>\n",
       "      <td>-0.005518</td>\n",
       "      <td>-0.001246</td>\n",
       "      <td>0.009955</td>\n",
       "      <td>0.015765</td>\n",
       "      <td>0.012243</td>\n",
       "      <td>0.011685</td>\n",
       "      <td>0.009178</td>\n",
       "    </tr>\n",
       "    <tr>\n",
       "      <th>2021-11-03</th>\n",
       "      <td>0.033349</td>\n",
       "      <td>0.022722</td>\n",
       "      <td>-0.011388</td>\n",
       "      <td>-0.008301</td>\n",
       "      <td>0.042282</td>\n",
       "      <td>-0.003170</td>\n",
       "      <td>0.052142</td>\n",
       "      <td>0.015596</td>\n",
       "      <td>-0.025414</td>\n",
       "      <td>0.006925</td>\n",
       "      <td>0.004654</td>\n",
       "      <td>0.002744</td>\n",
       "      <td>0.000960</td>\n",
       "      <td>-0.001982</td>\n",
       "      <td>0.003387</td>\n",
       "      <td>0.006872</td>\n",
       "      <td>-0.003201</td>\n",
       "      <td>-0.009365</td>\n",
       "      <td>-0.013338</td>\n",
       "      <td>0.009586</td>\n",
       "    </tr>\n",
       "    <tr>\n",
       "      <th>2021-11-04</th>\n",
       "      <td>-0.028868</td>\n",
       "      <td>0.053398</td>\n",
       "      <td>-0.013822</td>\n",
       "      <td>-0.032174</td>\n",
       "      <td>0.027186</td>\n",
       "      <td>-0.000707</td>\n",
       "      <td>0.010481</td>\n",
       "      <td>-0.028898</td>\n",
       "      <td>0.004851</td>\n",
       "      <td>0.013895</td>\n",
       "      <td>0.012220</td>\n",
       "      <td>-0.003567</td>\n",
       "      <td>-0.000799</td>\n",
       "      <td>-0.015091</td>\n",
       "      <td>0.005507</td>\n",
       "      <td>0.001861</td>\n",
       "      <td>-0.002787</td>\n",
       "      <td>0.006198</td>\n",
       "      <td>0.008534</td>\n",
       "      <td>0.000061</td>\n",
       "    </tr>\n",
       "    <tr>\n",
       "      <th>2021-11-05</th>\n",
       "      <td>0.009299</td>\n",
       "      <td>-0.008436</td>\n",
       "      <td>0.013657</td>\n",
       "      <td>0.001757</td>\n",
       "      <td>-0.004634</td>\n",
       "      <td>0.008663</td>\n",
       "      <td>0.008149</td>\n",
       "      <td>-0.024312</td>\n",
       "      <td>0.032891</td>\n",
       "      <td>0.007967</td>\n",
       "      <td>0.010021</td>\n",
       "      <td>0.000174</td>\n",
       "      <td>0.011680</td>\n",
       "      <td>0.017540</td>\n",
       "      <td>0.002915</td>\n",
       "      <td>0.004060</td>\n",
       "      <td>-0.011086</td>\n",
       "      <td>-0.004480</td>\n",
       "      <td>-0.001872</td>\n",
       "      <td>0.008034</td>\n",
       "    </tr>\n",
       "  </tbody>\n",
       "</table>\n",
       "<p>187 rows × 20 columns</p>\n",
       "</div>"
      ],
      "text/plain": [
       "                 CHK       AMD       LNT       FCX      VRTX       WMB  \\\n",
       "Date                                                                     \n",
       "2021-02-11 -0.048678  0.003357 -0.008347 -0.008003 -0.009552 -0.023235   \n",
       "2021-02-12 -0.006776  0.011979 -0.008622  0.007744  0.016532  0.025135   \n",
       "2021-02-16  0.024465 -0.024635 -0.009733  0.053474 -0.017338  0.003065   \n",
       "2021-02-17  0.016303 -0.016619  0.008574  0.037994  0.021782  0.007857   \n",
       "2021-02-18 -0.028468 -0.014454  0.007879 -0.000293 -0.023365 -0.035946   \n",
       "...              ...       ...       ...       ...       ...       ...   \n",
       "2021-11-01  0.032162  0.041587  0.004950  0.016172  0.002542  0.016020   \n",
       "2021-11-02 -0.006384  0.019165  0.004046  0.005740 -0.021575 -0.005256   \n",
       "2021-11-03  0.033349  0.022722 -0.011388 -0.008301  0.042282 -0.003170   \n",
       "2021-11-04 -0.028868  0.053398 -0.013822 -0.032174  0.027186 -0.000707   \n",
       "2021-11-05  0.009299 -0.008436  0.013657  0.001757 -0.004634  0.008663   \n",
       "\n",
       "                INCY      NFLX       MRO        MU       MCD     BRK-B  \\\n",
       "Date                                                                     \n",
       "2021-02-11 -0.002113 -0.010646 -0.037404  0.050152 -0.000606 -0.000667   \n",
       "2021-02-12 -0.007766 -0.001919  0.025143  0.017692 -0.001727  0.011261   \n",
       "2021-02-16 -0.026088  0.001366  0.068233 -0.003068  0.005283  0.011631   \n",
       "2021-02-17  0.019968 -0.010659  0.003141 -0.019261 -0.007348 -0.000122   \n",
       "2021-02-18 -0.026501 -0.005659 -0.048017  0.028937  0.009276 -0.007136   \n",
       "...              ...       ...       ...       ...       ...       ...   \n",
       "2021-11-01  0.035384 -0.013240  0.043505  0.023155  0.020485 -0.002683   \n",
       "2021-11-02 -0.084643 -0.005065 -0.006459  0.000849 -0.005348  0.005904   \n",
       "2021-11-03  0.052142  0.015596 -0.025414  0.006925  0.004654  0.002744   \n",
       "2021-11-04  0.010481 -0.028898  0.004851  0.013895  0.012220 -0.003567   \n",
       "2021-11-05  0.008149 -0.024312  0.032891  0.007967  0.010021  0.000174   \n",
       "\n",
       "                  SO         T        KO        PG       JNJ        WM  \\\n",
       "Date                                                                     \n",
       "2021-02-11  0.005908  0.004904  0.014113  0.000858 -0.004496 -0.004134   \n",
       "2021-02-12 -0.009068  0.003834  0.007753 -0.005533  0.003131  0.000265   \n",
       "2021-02-16 -0.013311  0.005903 -0.008286  0.002351 -0.009065 -0.005740   \n",
       "2021-02-17 -0.000506  0.020711 -0.002785  0.004221  0.003574 -0.003463   \n",
       "2021-02-18  0.009786 -0.011498  0.012767  0.008329  0.000483  0.010872   \n",
       "...              ...       ...       ...       ...       ...       ...   \n",
       "2021-11-01  0.002567  0.004355 -0.003548 -0.002448  0.000860 -0.005929   \n",
       "2021-11-02  0.000160 -0.005518 -0.001246  0.009955  0.015765  0.012243   \n",
       "2021-11-03  0.000960 -0.001982  0.003387  0.006872 -0.003201 -0.009365   \n",
       "2021-11-04 -0.000799 -0.015091  0.005507  0.001861 -0.002787  0.006198   \n",
       "2021-11-05  0.011680  0.017540  0.002915  0.004060 -0.011086 -0.004480   \n",
       "\n",
       "                 RSG       PEP  \n",
       "Date                            \n",
       "2021-02-11  0.008506 -0.019826  \n",
       "2021-02-12 -0.000329 -0.008150  \n",
       "2021-02-16 -0.009643  0.003810  \n",
       "2021-02-17 -0.003319  0.000595  \n",
       "2021-02-18  0.018206  0.006768  \n",
       "...              ...       ...  \n",
       "2021-11-01 -0.014487 -0.002104  \n",
       "2021-11-02  0.011685  0.009178  \n",
       "2021-11-03 -0.013338  0.009586  \n",
       "2021-11-04  0.008534  0.000061  \n",
       "2021-11-05 -0.001872  0.008034  \n",
       "\n",
       "[187 rows x 20 columns]"
      ]
     },
     "execution_count": 647,
     "metadata": {},
     "output_type": "execute_result"
    }
   ],
   "source": [
    "returns.dropna()"
   ]
  },
  {
   "cell_type": "code",
   "execution_count": 377,
   "id": "781e13f8",
   "metadata": {},
   "outputs": [
    {
     "data": {
      "text/plain": [
       "Index(['CHK', 'AMD', 'LNT', 'FCX', 'VRTX', 'WMB', 'INCY', 'NFLX', 'MRO', 'MU',\n",
       "       'MCD', 'BRK-B', 'SO', 'T', 'KO', 'PG', 'JNJ', 'WM', 'RSG', 'PEP'],\n",
       "      dtype='object')"
      ]
     },
     "execution_count": 377,
     "metadata": {},
     "output_type": "execute_result"
    }
   ],
   "source": [
    "np.var(returns).index"
   ]
  },
  {
   "cell_type": "code",
   "execution_count": 378,
   "id": "c13d573b",
   "metadata": {},
   "outputs": [],
   "source": [
    "#high=np.var(returns).index if np.var(returns)<0.0005"
   ]
  },
  {
   "cell_type": "code",
   "execution_count": 379,
   "id": "401f293b",
   "metadata": {},
   "outputs": [],
   "source": [
    "df1=df['2017-01-01':'2020-12-31']\n",
    "df2=df['2021-01-01':'2021-12-31']"
   ]
  },
  {
   "cell_type": "code",
   "execution_count": 380,
   "id": "a64613dd",
   "metadata": {},
   "outputs": [],
   "source": [
    "#df1= df1.fillna(0)"
   ]
  },
  {
   "cell_type": "code",
   "execution_count": 648,
   "id": "89c406e2",
   "metadata": {},
   "outputs": [],
   "source": [
    "df1=df1.iloc[:,1:].pct_change().dropna()\n",
    "\n",
    "df2=df2.pct_change().dropna()\n",
    "#df1['CHK']=0\n",
    "#df1['CHK']=0\n"
   ]
  },
  {
   "cell_type": "code",
   "execution_count": 649,
   "id": "bcbcf6e1",
   "metadata": {},
   "outputs": [],
   "source": [
    "df1['CHK']=0\n",
    "#df1.insert(0,'CHK‘,0)\n"
   ]
  },
  {
   "cell_type": "code",
   "execution_count": 650,
   "id": "ce8f93b8",
   "metadata": {},
   "outputs": [],
   "source": [
    "#df2"
   ]
  },
  {
   "cell_type": "code",
   "execution_count": 384,
   "id": "22d46624",
   "metadata": {},
   "outputs": [
    {
     "data": {
      "text/plain": [
       "(1006, 20)"
      ]
     },
     "execution_count": 384,
     "metadata": {},
     "output_type": "execute_result"
    }
   ],
   "source": [
    "df1.shape"
   ]
  },
  {
   "cell_type": "code",
   "execution_count": 401,
   "id": "546c8fa9",
   "metadata": {},
   "outputs": [],
   "source": [
    "from rsome import ro\n",
    "import gurobipy as gp\n",
    "from rsome import grb_solver as grb\n",
    "import rsome as rso\n",
    "import numpy as np\n",
    "from rsome import norm\n"
   ]
  },
  {
   "cell_type": "code",
   "execution_count": 402,
   "id": "c7bcbe9a",
   "metadata": {},
   "outputs": [],
   "source": [
    "import numpy as np\n",
    "from scipy.optimize import minimize"
   ]
  },
  {
   "cell_type": "code",
   "execution_count": 403,
   "id": "0bb1512e",
   "metadata": {},
   "outputs": [
    {
     "data": {
      "text/plain": [
       "(20, 20)"
      ]
     },
     "execution_count": 403,
     "metadata": {},
     "output_type": "execute_result"
    }
   ],
   "source": [
    "returns.cov().shape"
   ]
  },
  {
   "cell_type": "code",
   "execution_count": 404,
   "id": "6fb7e58f",
   "metadata": {},
   "outputs": [
    {
     "data": {
      "text/plain": [
       "(20, 20)"
      ]
     },
     "execution_count": 404,
     "metadata": {},
     "output_type": "execute_result"
    }
   ],
   "source": [
    "df1.cov().to_numpy().shape \n",
    "#optimized_results.x.reshape(1,-1)\n"
   ]
  },
  {
   "cell_type": "code",
   "execution_count": 405,
   "id": "71b7dcf1",
   "metadata": {},
   "outputs": [],
   "source": [
    "#optimized_results.x"
   ]
  },
  {
   "cell_type": "code",
   "execution_count": 406,
   "id": "0ecc1529",
   "metadata": {},
   "outputs": [],
   "source": [
    "#df1.cov().to_numpy().tolist()*optimized_results.x.reshape(1,-1)"
   ]
  },
  {
   "cell_type": "code",
   "execution_count": 630,
   "id": "cd7b79d3",
   "metadata": {},
   "outputs": [],
   "source": [
    "# The constraints\n",
    "cons = (# The weights must sum up to one.\n",
    "        {\"type\":\"eq\", \"fun\": lambda x: np.sum(x)-1}, \n",
    "        \n",
    "        {\"type\": \"ineq\", \"fun\": lambda x: 0.00005-np.sum(x*df2.var()*x)}\n",
    ") "
   ]
  },
  {
   "cell_type": "code",
   "execution_count": 639,
   "id": "c6044371",
   "metadata": {},
   "outputs": [],
   "source": [
    "#the bojective is to minimize portfolio risk\n",
    "def objective(weights):\n",
    "    weights = np.array(weights)\n",
    "    return -weights.T.dot(df.mean())"
   ]
  },
  {
   "cell_type": "code",
   "execution_count": 640,
   "id": "1ea3dd8f",
   "metadata": {},
   "outputs": [
    {
     "data": {
      "text/plain": [
       "     fun: -252.2471472789619\n",
       "     jac: array([ -52.58446503,  -42.16724014,  -44.63505363,  -17.1931839 ,\n",
       "       -186.65323448,  -21.67033195,  -89.20843697, -355.61660004,\n",
       "        -12.69741821,  -49.86674309, -178.42420006, -210.5820961 ,\n",
       "        -49.23470688,  -28.14331055,  -45.28977776, -102.50671768,\n",
       "       -133.18405533,  -99.10576439,  -79.22653198, -118.61801147])\n",
       " message: 'Optimization terminated successfully'\n",
       "    nfev: 329\n",
       "     nit: 16\n",
       "    njev: 15\n",
       "  status: 0\n",
       " success: True\n",
       "       x: array([1.27098598e-12, 1.56294051e-12, 1.50223274e-12, 2.30576677e-12,\n",
       "       9.85996968e-02, 2.17514793e-12, 1.94939933e-13, 3.51636646e-01,\n",
       "       2.43729085e-12, 1.34926574e-12, 2.16899177e-01, 3.32864498e-01,\n",
       "       1.36821925e-12, 1.98525463e-12, 1.48205339e-12, 7.22373646e-14,\n",
       "       3.30454262e-10, 3.59041059e-14, 4.87503925e-13, 3.26593638e-11])"
      ]
     },
     "execution_count": 640,
     "metadata": {},
     "output_type": "execute_result"
    }
   ],
   "source": [
    "#the bojective is to minimize portfolio risk\n",
    "#Every stock can get any weight from 0 to 1\n",
    "bounds = tuple((0, 1) for x in range(df1.shape[1]))\n",
    "guess = [1/df1.shape[1] for x in range(df1.shape[1])]\n",
    "\n",
    "optimized_results = minimize(objective, guess, method = \"SLSQP\", bounds=bounds, constraints=cons)\n",
    "optimized_results"
   ]
  },
  {
   "cell_type": "code",
   "execution_count": 641,
   "id": "663ee004",
   "metadata": {},
   "outputs": [
    {
     "name": "stdout",
     "output_type": "stream",
     "text": [
      "[1.27098598e-12 1.56294051e-12 1.50223274e-12 2.30576677e-12\n",
      " 9.85996968e-02 2.17514793e-12 1.94939933e-13 3.51636646e-01\n",
      " 2.43729085e-12 1.34926574e-12 2.16899177e-01 3.32864498e-01\n",
      " 1.36821925e-12 1.98525463e-12 1.48205339e-12 7.22373646e-14\n",
      " 3.30454262e-10 3.59041059e-14 4.87503925e-13 3.26593638e-11]\n",
      "we should get 1\n",
      "1.0000000185041062\n"
     ]
    }
   ],
   "source": [
    "print(optimized_results.x)\n",
    "print('we should get 1') \n",
    "print(np.sum(optimized_results.x))"
   ]
  },
  {
   "cell_type": "code",
   "execution_count": 642,
   "id": "94700d0e",
   "metadata": {},
   "outputs": [],
   "source": [
    "col_names=list(['CHK','AMD','LNT','FCX','VRTX','WMB','INCY','NFLX','MRO','MU','MCD','BRK','B','SO','T','KO','PG','JNJ','WM','RSG','PEP'])\n",
    "              "
   ]
  },
  {
   "cell_type": "code",
   "execution_count": 643,
   "id": "873c0cb9",
   "metadata": {},
   "outputs": [
    {
     "data": {
      "text/html": [
       "<div>\n",
       "<style scoped>\n",
       "    .dataframe tbody tr th:only-of-type {\n",
       "        vertical-align: middle;\n",
       "    }\n",
       "\n",
       "    .dataframe tbody tr th {\n",
       "        vertical-align: top;\n",
       "    }\n",
       "\n",
       "    .dataframe thead th {\n",
       "        text-align: right;\n",
       "    }\n",
       "</style>\n",
       "<table border=\"1\" class=\"dataframe\">\n",
       "  <thead>\n",
       "    <tr style=\"text-align: right;\">\n",
       "      <th></th>\n",
       "      <th>col_names</th>\n",
       "      <th>Weight</th>\n",
       "    </tr>\n",
       "  </thead>\n",
       "  <tbody>\n",
       "    <tr>\n",
       "      <th>0</th>\n",
       "      <td>CHK</td>\n",
       "      <td>1.270986e-12</td>\n",
       "    </tr>\n",
       "    <tr>\n",
       "      <th>1</th>\n",
       "      <td>AMD</td>\n",
       "      <td>1.562941e-12</td>\n",
       "    </tr>\n",
       "    <tr>\n",
       "      <th>2</th>\n",
       "      <td>LNT</td>\n",
       "      <td>1.502233e-12</td>\n",
       "    </tr>\n",
       "    <tr>\n",
       "      <th>3</th>\n",
       "      <td>FCX</td>\n",
       "      <td>2.305767e-12</td>\n",
       "    </tr>\n",
       "    <tr>\n",
       "      <th>4</th>\n",
       "      <td>VRTX</td>\n",
       "      <td>9.859970e-02</td>\n",
       "    </tr>\n",
       "    <tr>\n",
       "      <th>5</th>\n",
       "      <td>WMB</td>\n",
       "      <td>2.175148e-12</td>\n",
       "    </tr>\n",
       "    <tr>\n",
       "      <th>6</th>\n",
       "      <td>INCY</td>\n",
       "      <td>1.949399e-13</td>\n",
       "    </tr>\n",
       "    <tr>\n",
       "      <th>7</th>\n",
       "      <td>NFLX</td>\n",
       "      <td>3.516366e-01</td>\n",
       "    </tr>\n",
       "    <tr>\n",
       "      <th>8</th>\n",
       "      <td>MRO</td>\n",
       "      <td>2.437291e-12</td>\n",
       "    </tr>\n",
       "    <tr>\n",
       "      <th>9</th>\n",
       "      <td>MU</td>\n",
       "      <td>1.349266e-12</td>\n",
       "    </tr>\n",
       "    <tr>\n",
       "      <th>10</th>\n",
       "      <td>MCD</td>\n",
       "      <td>2.168992e-01</td>\n",
       "    </tr>\n",
       "    <tr>\n",
       "      <th>11</th>\n",
       "      <td>BRK</td>\n",
       "      <td>3.328645e-01</td>\n",
       "    </tr>\n",
       "    <tr>\n",
       "      <th>12</th>\n",
       "      <td>B</td>\n",
       "      <td>1.368219e-12</td>\n",
       "    </tr>\n",
       "    <tr>\n",
       "      <th>13</th>\n",
       "      <td>SO</td>\n",
       "      <td>1.985255e-12</td>\n",
       "    </tr>\n",
       "    <tr>\n",
       "      <th>14</th>\n",
       "      <td>T</td>\n",
       "      <td>1.482053e-12</td>\n",
       "    </tr>\n",
       "    <tr>\n",
       "      <th>15</th>\n",
       "      <td>KO</td>\n",
       "      <td>7.223736e-14</td>\n",
       "    </tr>\n",
       "    <tr>\n",
       "      <th>16</th>\n",
       "      <td>PG</td>\n",
       "      <td>3.304543e-10</td>\n",
       "    </tr>\n",
       "    <tr>\n",
       "      <th>17</th>\n",
       "      <td>JNJ</td>\n",
       "      <td>3.590411e-14</td>\n",
       "    </tr>\n",
       "    <tr>\n",
       "      <th>18</th>\n",
       "      <td>WM</td>\n",
       "      <td>4.875039e-13</td>\n",
       "    </tr>\n",
       "    <tr>\n",
       "      <th>19</th>\n",
       "      <td>RSG</td>\n",
       "      <td>3.265936e-11</td>\n",
       "    </tr>\n",
       "  </tbody>\n",
       "</table>\n",
       "</div>"
      ],
      "text/plain": [
       "   col_names        Weight\n",
       "0        CHK  1.270986e-12\n",
       "1        AMD  1.562941e-12\n",
       "2        LNT  1.502233e-12\n",
       "3        FCX  2.305767e-12\n",
       "4       VRTX  9.859970e-02\n",
       "5        WMB  2.175148e-12\n",
       "6       INCY  1.949399e-13\n",
       "7       NFLX  3.516366e-01\n",
       "8        MRO  2.437291e-12\n",
       "9         MU  1.349266e-12\n",
       "10       MCD  2.168992e-01\n",
       "11       BRK  3.328645e-01\n",
       "12         B  1.368219e-12\n",
       "13        SO  1.985255e-12\n",
       "14         T  1.482053e-12\n",
       "15        KO  7.223736e-14\n",
       "16        PG  3.304543e-10\n",
       "17       JNJ  3.590411e-14\n",
       "18        WM  4.875039e-13\n",
       "19       RSG  3.265936e-11"
      ]
     },
     "execution_count": 643,
     "metadata": {},
     "output_type": "execute_result"
    }
   ],
   "source": [
    "pd.DataFrame(list(zip(col_names, optimized_results.x)), columns=['col_names', 'Weight'])"
   ]
  },
  {
   "cell_type": "code",
   "execution_count": 644,
   "id": "d380e00a",
   "metadata": {},
   "outputs": [],
   "source": [
    "opt_result_returns = np.matmul(np.matrix(df2), np.array(optimized_results.x))\n",
    "opt_sharpe=opt_result_returns.mean()/opt_result_returns.std()\n",
    "#print('first sharpe:'opt_sharpe)"
   ]
  },
  {
   "cell_type": "markdown",
   "id": "b35638f5",
   "metadata": {},
   "source": [
    "original sharpe ratio"
   ]
  },
  {
   "cell_type": "code",
   "execution_count": 666,
   "id": "97a315d9",
   "metadata": {},
   "outputs": [
    {
     "name": "stdout",
     "output_type": "stream",
     "text": [
      "mean variance sharpe ratio 0.11240790392958958\n"
     ]
    }
   ],
   "source": [
    "print('mean variance sharpe ratio',opt_sharpe)\n",
    "#0.08959703870310981\n",
    "#0.14420482496711995 *x"
   ]
  },
  {
   "cell_type": "markdown",
   "id": "2c4b31cb",
   "metadata": {},
   "source": [
    "mean"
   ]
  },
  {
   "cell_type": "code",
   "execution_count": 638,
   "id": "ca058557",
   "metadata": {},
   "outputs": [
    {
     "data": {
      "text/plain": [
       "0.0023449937268325886"
      ]
     },
     "execution_count": 638,
     "metadata": {},
     "output_type": "execute_result"
    }
   ],
   "source": [
    "opt_result_returns.mean()\n",
    "#0.001317139168`"
   ]
  },
  {
   "cell_type": "code",
   "execution_count": 654,
   "id": "c2dc6632",
   "metadata": {},
   "outputs": [
    {
     "data": {
      "text/plain": [
       "Text(0.5, 1.0, 'unrealized cumulative return')"
      ]
     },
     "execution_count": 654,
     "metadata": {},
     "output_type": "execute_result"
    },
    {
     "data": {
      "image/png": "[encoded data removed]",
      "text/plain": [
       "<Figure size 1152x576 with 1 Axes>"
      ]
     },
     "metadata": {
      "needs_background": "light"
     },
     "output_type": "display_data"
    }
   ],
   "source": [
    "plt.figure(figsize=(16,8))\n",
    "a=opt_result_returns.cumsum().tolist()[0]\n",
    "plt.plot(a)\n",
    "\n",
    "plt.xlabel('return daytime') \n",
    "plt.ylabel('cumsum return)') \n",
    "plt.title('unrealized cumulative return') "
   ]
  },
  {
   "cell_type": "markdown",
   "id": "bf2060d4",
   "metadata": {},
   "source": [
    "2.2"
   ]
  },
  {
   "cell_type": "code",
   "execution_count": 472,
   "id": "4c298c6c",
   "metadata": {},
   "outputs": [],
   "source": [
    "from rsome import ro\n",
    "import gurobipy as gp\n",
    "from rsome import grb_solver as grb\n",
    "import rsome as rso\n",
    "import numpy as np\n",
    "from rsome import norm\n"
   ]
  },
  {
   "cell_type": "code",
   "execution_count": 473,
   "id": "a2b94941",
   "metadata": {},
   "outputs": [
    {
     "data": {
      "text/plain": [
       "array([0.05, 0.05, 0.05, 0.05, 0.05, 0.05, 0.05, 0.05, 0.05, 0.05, 0.05,\n",
       "       0.05, 0.05, 0.05, 0.05, 0.05, 0.05, 0.05, 0.05, 0.05])"
      ]
     },
     "execution_count": 473,
     "metadata": {},
     "output_type": "execute_result"
    }
   ],
   "source": [
    "np.array(guess).T    "
   ]
  },
  {
   "cell_type": "code",
   "execution_count": 485,
   "id": "773a6ce5",
   "metadata": {},
   "outputs": [
    {
     "data": {
      "text/plain": [
       "(20,)"
      ]
     },
     "execution_count": 485,
     "metadata": {},
     "output_type": "execute_result"
    }
   ],
   "source": [
    "w.shape"
   ]
  },
  {
   "cell_type": "code",
   "execution_count": 486,
   "id": "7f4c8f6e",
   "metadata": {},
   "outputs": [
    {
     "data": {
      "text/plain": [
       "1.0000000000000002"
      ]
     },
     "execution_count": 486,
     "metadata": {},
     "output_type": "execute_result"
    }
   ],
   "source": [
    "sum(w)"
   ]
  },
  {
   "cell_type": "code",
   "execution_count": 622,
   "id": "b0c3e3b6",
   "metadata": {},
   "outputs": [
    {
     "name": "stdout",
     "output_type": "stream",
     "text": [
      "Being solved by Gurobi...\n",
      "Solution status: 2\n",
      "Running time: 0.0544s\n"
     ]
    }
   ],
   "source": [
    "n=20\n",
    "delta0=1.5\n",
    "i=np.arange(1,n+1)\n",
    "p=np.array(df1.mean().tolist())\n",
    "sigma=np.array(df1.var().tolist())\n",
    "\n",
    "model = ro.Model('mv-portfolio')  \n",
    "x=model.dvar(n)\n",
    "z=model.rvar(n)\n",
    "Sigma = sigma*sigma\n",
    "delta = np.ones(n)*.01\n",
    "Q = np.diag(sigma**2)   \n",
    "delta=np.ones(n)*delta0\n",
    "#i = np.arange(1, n+1)  \n",
    "#p = np.array(df1.mean().tolist()).reshape(1,-1)\n",
    "z_set0 = norm(z, 2) <= delta\n",
    "\n",
    "model.maxmin(((p - delta*z) @ x), z_set0)    \n",
    "model.st(rso.quad(x, Q) - Sigma <= 0)          # constraint with variance\n",
    "model.st(sum(x) == 1)                   # summation of x is one\n",
    "model.st(x >= 0)                        # x is non-negative\n",
    "\n",
    "model.solve(grb)                        # solve the model by Gurobi"
   ]
  },
  {
   "cell_type": "code",
   "execution_count": 623,
   "id": "f22e539e",
   "metadata": {},
   "outputs": [
    {
     "data": {
      "text/plain": [
       "array([4.36835898e-09, 1.59716991e-08, 5.43917142e-09, 1.02791259e-08,\n",
       "       1.05048084e-08, 9.51074123e-09, 8.54482697e-09, 4.54903746e-09,\n",
       "       6.67162216e-09, 2.53302703e-08, 2.96906041e-08, 2.12317601e-08,\n",
       "       2.52839640e-08, 3.42832209e-08, 3.37765648e-08, 3.42391743e-08,\n",
       "       3.30686960e-08, 3.48115101e-08, 1.74975650e-08, 9.99999635e-01])"
      ]
     },
     "execution_count": 623,
     "metadata": {},
     "output_type": "execute_result"
    }
   ],
   "source": [
    "x_soll"
   ]
  },
  {
   "cell_type": "code",
   "execution_count": 652,
   "id": "bcbf274d",
   "metadata": {},
   "outputs": [],
   "source": [
    "obj_val = model.get()                   # the optimal objective value\n",
    "x_soll = x.get()                         # the optimal investment decision\n",
    "plt.rcParams['figure.figsize'] = [12, 8]\n",
    "#plt.plot(range(1, n+1), x_soll,linewidth=2, color='b')\n",
    "#plt.xlabel('Stocks')\n",
    "#plt.ylabel('Fraction of investment')\n",
    "#plt.show()\n",
    "#print('Objective value: {0:0.4f}'.format(obj_val))"
   ]
  },
  {
   "cell_type": "code",
   "execution_count": 676,
   "id": "9810efed",
   "metadata": {},
   "outputs": [
    {
     "name": "stderr",
     "output_type": "stream",
     "text": [
      "/var/folders/83/wyld6rbs37jg06dnrv50h1sh0000gn/T/ipykernel_5839/3558712317.py:1: RuntimeWarning: invalid value encountered in matmul\n",
      "  reb_opt_result=np.matmul(np.matrix(df2),np.array(x_soll))\n"
     ]
    }
   ],
   "source": [
    "reb_opt_result=np.matmul(np.matrix(df2),np.array(x_soll))\n",
    "#reb_opt_result"
   ]
  },
  {
   "cell_type": "code",
   "execution_count": 655,
   "id": "22fcb586",
   "metadata": {},
   "outputs": [
    {
     "data": {
      "text/plain": [
       "Text(0.5, 1.0, 'realized cumulative return')"
      ]
     },
     "execution_count": 655,
     "metadata": {},
     "output_type": "execute_result"
    },
    {
     "data": {
      "image/png": "[encoded data removed]",
      "text/plain": [
       "<Figure size 1152x576 with 1 Axes>"
      ]
     },
     "metadata": {
      "needs_background": "light"
     },
     "output_type": "display_data"
    }
   ],
   "source": [
    "plt.figure(figsize=(16,8))\n",
    "b=reb_opt_result.cumsum().tolist()[0]\n",
    "plt.plot(b)\n",
    "\n",
    "plt.xlabel('return daytime') \n",
    "plt.ylabel('cumsum return)') \n",
    "plt.title('realized cumulative return') "
   ]
  },
  {
   "cell_type": "code",
   "execution_count": 671,
   "id": "40bfd8f4",
   "metadata": {},
   "outputs": [
    {
     "name": "stdout",
     "output_type": "stream",
     "text": [
      "robust method sharpe ratio: 0.1325782389603081\n"
     ]
    }
   ],
   "source": [
    "print('robust method sharpe ratio:',reb_opt_result.mean()/reb_opt_result.std())"
   ]
  },
  {
   "cell_type": "markdown",
   "id": "34fdba00",
   "metadata": {},
   "source": [
    "# summary"
   ]
  },
  {
   "cell_type": "code",
   "execution_count": 675,
   "id": "7f2032fb",
   "metadata": {
    "scrolled": true
   },
   "outputs": [
    {
     "data": {
      "text/plain": [
       "<matplotlib.legend.Legend at 0x7fa7c0e3e250>"
      ]
     },
     "execution_count": 675,
     "metadata": {},
     "output_type": "execute_result"
    },
    {
     "data": {
      "image/png": "[encoded data removed]",
      "text/plain": [
       "<Figure size 576x288 with 1 Axes>"
      ]
     },
     "metadata": {
      "needs_background": "light"
     },
     "output_type": "display_data"
    }
   ],
   "source": [
    "plt.figure(figsize=(8,4))\n",
    "plt.plot(a,'r',label='mean-variance cumreturn')\n",
    "plt.plot(b,'b',label='robust cumreturn')\n",
    "plt.xlabel('return daytime') \n",
    "plt.ylabel('cumsum return)') \n",
    "plt.title('mean-variance cumreturn and robust cumreturn')\n",
    "plt.legend()"
   ]
  },
  {
   "cell_type": "code",
   "execution_count": 668,
   "id": "91fafafc",
   "metadata": {},
   "outputs": [
    {
     "name": "stdout",
     "output_type": "stream",
     "text": [
      "mean variance sharpe ratio 0.11240790392958958\n",
      "robust method sharpe ratio: 0.1325782389603081\n"
     ]
    }
   ],
   "source": [
    "print('mean variance sharpe ratio',opt_sharpe)\n",
    "print('robust method sharpe ratio:',reb_opt_result.mean()/reb_opt_result.std())"
   ]
  },
  {
   "cell_type": "code",
   "execution_count": 669,
   "id": "511b6d06",
   "metadata": {},
   "outputs": [
    {
     "name": "stdout",
     "output_type": "stream",
     "text": [
      "mean variance mean return 0.0008571064420062184\n",
      "robust method mean return: 0.0011432882466941498\n"
     ]
    }
   ],
   "source": [
    "print('mean variance mean return',opt_result_returns.mean())\n",
    "print('robust method mean return:',reb_opt_result.mean())"
   ]
  },
  {
   "cell_type": "markdown",
   "id": "6b72d499",
   "metadata": {},
   "source": [
    "The mean-var protfolio sharpe ratio is 11.2%, mean returns is 0.0008\n",
    "The robust method sharpe ratio is 13.3%, mean returns is 0.001\n",
    "The robust method portfolio performed better, which proved the benefit of this optimized method "
   ]
  }
 ],
 "metadata": {
  "kernelspec": {
   "display_name": "Python 3 (ipykernel)",
   "language": "python",
   "name": "python3"
  },
  "language_info": {
   "codemirror_mode": {
    "name": "ipython",
    "version": 3
   },
   "file_extension": ".py",
   "mimetype": "text/x-python",
   "name": "python",
   "nbconvert_exporter": "python",
   "pygments_lexer": "ipython3",
   "version": "3.9.7"
  }
 },
 "nbformat": 4,
 "nbformat_minor": 5
}
